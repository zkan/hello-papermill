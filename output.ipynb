{
 "cells": [
  {
   "cell_type": "code",
   "execution_count": 1,
   "metadata": {
    "papermill": {
     "duration": 0.011681,
     "end_time": "2019-02-23T16:07:40.031338",
     "exception": false,
     "start_time": "2019-02-23T16:07:40.019657",
     "status": "completed"
    },
    "tags": [
     "injected-parameters"
    ]
   },
   "outputs": [],
   "source": [
    "# Parameters\n",
    "name = \"Kan\"\n"
   ]
  },
  {
   "cell_type": "code",
   "execution_count": 2,
   "metadata": {
    "papermill": {
     "duration": 0.00882,
     "end_time": "2019-02-23T16:07:40.042365",
     "exception": false,
     "start_time": "2019-02-23T16:07:40.033545",
     "status": "completed"
    },
    "tags": []
   },
   "outputs": [
    {
     "name": "stdout",
     "output_type": "stream",
     "text": [
      "Kan\n"
     ]
    }
   ],
   "source": [
    "print(name)"
   ]
  },
  {
   "cell_type": "code",
   "execution_count": null,
   "metadata": {},
   "outputs": [],
   "source": []
  }
 ],
 "metadata": {
  "kernelspec": {
   "display_name": "Python 3",
   "language": "python",
   "name": "python3"
  },
  "language_info": {
   "codemirror_mode": {
    "name": "ipython",
    "version": 3
   },
   "file_extension": ".py",
   "mimetype": "text/x-python",
   "name": "python",
   "nbconvert_exporter": "python",
   "pygments_lexer": "ipython3",
   "version": "3.7.0"
  },
  "papermill": {
   "duration": 1.29251,
   "end_time": "2019-02-23T16:07:40.427426",
   "environment_variables": {},
   "exception": null,
   "input_path": "main.ipynb",
   "output_path": "output.ipynb",
   "parameters": {
    "name": "Kan"
   },
   "start_time": "2019-02-23T16:07:39.134916",
   "version": "0.18.2"
  }
 },
 "nbformat": 4,
 "nbformat_minor": 2
}

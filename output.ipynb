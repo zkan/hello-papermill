{
 "cells": [
  {
   "cell_type": "code",
   "execution_count": 1,
   "metadata": {
    "execution": {
     "iopub.execute_input": "2020-09-03T13:55:00.927072Z",
     "iopub.status.busy": "2020-09-03T13:55:00.926557Z",
     "iopub.status.idle": "2020-09-03T13:55:00.929808Z",
     "shell.execute_reply": "2020-09-03T13:55:00.929199Z"
    },
    "papermill": {
     "duration": 0.012386,
     "end_time": "2020-09-03T13:55:00.929970",
     "exception": false,
     "start_time": "2020-09-03T13:55:00.917584",
     "status": "completed"
    },
    "tags": [
     "parameters"
    ]
   },
   "outputs": [],
   "source": [
    "name = 'Kan'\n",
    "x = 10\n",
    "y = 5"
   ]
  },
  {
   "cell_type": "code",
   "execution_count": 2,
   "metadata": {
    "execution": {
     "iopub.execute_input": "2020-09-03T13:55:00.941826Z",
     "iopub.status.busy": "2020-09-03T13:55:00.941075Z",
     "iopub.status.idle": "2020-09-03T13:55:00.943541Z",
     "shell.execute_reply": "2020-09-03T13:55:00.944115Z"
    },
    "papermill": {
     "duration": 0.010594,
     "end_time": "2020-09-03T13:55:00.944312",
     "exception": false,
     "start_time": "2020-09-03T13:55:00.933718",
     "status": "completed"
    },
    "tags": [
     "injected-parameters"
    ]
   },
   "outputs": [],
   "source": [
    "# Parameters\n",
    "name = \"zkan\"\n",
    "x = 99\n",
    "y = 1\n"
   ]
  },
  {
   "cell_type": "code",
   "execution_count": 3,
   "metadata": {
    "execution": {
     "iopub.execute_input": "2020-09-03T13:55:00.961595Z",
     "iopub.status.busy": "2020-09-03T13:55:00.960725Z",
     "iopub.status.idle": "2020-09-03T13:55:00.964497Z",
     "shell.execute_reply": "2020-09-03T13:55:00.964049Z"
    },
    "papermill": {
     "duration": 0.014397,
     "end_time": "2020-09-03T13:55:00.964606",
     "exception": false,
     "start_time": "2020-09-03T13:55:00.950209",
     "status": "completed"
    },
    "tags": []
   },
   "outputs": [
    {
     "name": "stdout",
     "output_type": "stream",
     "text": [
      "zkan\n"
     ]
    }
   ],
   "source": [
    "print(name)"
   ]
  },
  {
   "cell_type": "code",
   "execution_count": 4,
   "metadata": {
    "execution": {
     "iopub.execute_input": "2020-09-03T13:55:00.976003Z",
     "iopub.status.busy": "2020-09-03T13:55:00.975494Z",
     "iopub.status.idle": "2020-09-03T13:55:00.979206Z",
     "shell.execute_reply": "2020-09-03T13:55:00.978365Z"
    },
    "papermill": {
     "duration": 0.010807,
     "end_time": "2020-09-03T13:55:00.979378",
     "exception": false,
     "start_time": "2020-09-03T13:55:00.968571",
     "status": "completed"
    },
    "tags": []
   },
   "outputs": [],
   "source": [
    "def add(x, y):\n",
    "    return x + y"
   ]
  },
  {
   "cell_type": "code",
   "execution_count": 5,
   "metadata": {
    "execution": {
     "iopub.execute_input": "2020-09-03T13:55:01.001605Z",
     "iopub.status.busy": "2020-09-03T13:55:01.001060Z",
     "iopub.status.idle": "2020-09-03T13:55:01.005208Z",
     "shell.execute_reply": "2020-09-03T13:55:01.005571Z"
    },
    "papermill": {
     "duration": 0.019734,
     "end_time": "2020-09-03T13:55:01.005705",
     "exception": false,
     "start_time": "2020-09-03T13:55:00.985971",
     "status": "completed"
    },
    "tags": []
   },
   "outputs": [
    {
     "data": {
      "text/plain": [
       "100"
      ]
     },
     "execution_count": 5,
     "metadata": {},
     "output_type": "execute_result"
    }
   ],
   "source": [
    "add(x, y)"
   ]
  },
  {
   "cell_type": "code",
   "execution_count": null,
   "metadata": {
    "papermill": {
     "duration": 0.004031,
     "end_time": "2020-09-03T13:55:01.013748",
     "exception": false,
     "start_time": "2020-09-03T13:55:01.009717",
     "status": "completed"
    },
    "tags": []
   },
   "outputs": [],
   "source": []
  }
 ],
 "metadata": {
  "celltoolbar": "Tags",
  "kernelspec": {
   "display_name": "Python 3",
   "language": "python",
   "name": "python3"
  },
  "language_info": {
   "codemirror_mode": {
    "name": "ipython",
    "version": 3
   },
   "file_extension": ".py",
   "mimetype": "text/x-python",
   "name": "python",
   "nbconvert_exporter": "python",
   "pygments_lexer": "ipython3",
   "version": "3.8.4"
  },
  "papermill": {
   "duration": 2.249967,
   "end_time": "2020-09-03T13:55:02.157874",
   "environment_variables": {},
   "exception": null,
   "input_path": "main.ipynb",
   "output_path": "output.ipynb",
   "parameters": {
    "name": "zkan",
    "x": 99,
    "y": 1
   },
   "start_time": "2020-09-03T13:54:59.907907",
   "version": "2.1.3"
  }
 },
 "nbformat": 4,
 "nbformat_minor": 2
}
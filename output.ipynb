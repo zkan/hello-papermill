{
 "cells": [
  {
   "cell_type": "code",
   "execution_count": 1,
   "metadata": {
    "execution": {
     "iopub.execute_input": "2020-09-03T14:47:03.725147Z",
     "iopub.status.busy": "2020-09-03T14:47:03.724697Z",
     "iopub.status.idle": "2020-09-03T14:47:03.727608Z",
     "shell.execute_reply": "2020-09-03T14:47:03.726933Z"
    },
    "papermill": {
     "duration": 0.011731,
     "end_time": "2020-09-03T14:47:03.727761",
     "exception": false,
     "start_time": "2020-09-03T14:47:03.716030",
     "status": "completed"
    },
    "tags": [
     "parameters"
    ]
   },
   "outputs": [],
   "source": [
    "name = 'Kan'\n",
    "x = 10\n",
    "y = 5"
   ]
  },
  {
   "cell_type": "code",
   "execution_count": 2,
   "metadata": {
    "execution": {
     "iopub.execute_input": "2020-09-03T14:47:03.738679Z",
     "iopub.status.busy": "2020-09-03T14:47:03.738131Z",
     "iopub.status.idle": "2020-09-03T14:47:03.741195Z",
     "shell.execute_reply": "2020-09-03T14:47:03.740686Z"
    },
    "papermill": {
     "duration": 0.010021,
     "end_time": "2020-09-03T14:47:03.741320",
     "exception": false,
     "start_time": "2020-09-03T14:47:03.731299",
     "status": "completed"
    },
    "tags": [
     "injected-parameters"
    ]
   },
   "outputs": [],
   "source": [
    "# Parameters\n",
    "name = \"zkan\"\n",
    "x = 99\n",
    "y = 1\n",
    "x_values = [0.0, 1.0, 2.0, 3.0]\n",
    "linear_function = {\"slope\": 3.0, \"intercept\": 1.0}\n"
   ]
  },
  {
   "cell_type": "code",
   "execution_count": 3,
   "metadata": {
    "execution": {
     "iopub.execute_input": "2020-09-03T14:47:03.751814Z",
     "iopub.status.busy": "2020-09-03T14:47:03.751339Z",
     "iopub.status.idle": "2020-09-03T14:47:03.754889Z",
     "shell.execute_reply": "2020-09-03T14:47:03.754420Z"
    },
    "papermill": {
     "duration": 0.010476,
     "end_time": "2020-09-03T14:47:03.755077",
     "exception": false,
     "start_time": "2020-09-03T14:47:03.744601",
     "status": "completed"
    },
    "tags": []
   },
   "outputs": [
    {
     "name": "stdout",
     "output_type": "stream",
     "text": [
      "zkan\n"
     ]
    }
   ],
   "source": [
    "print(name)"
   ]
  },
  {
   "cell_type": "code",
   "execution_count": 4,
   "metadata": {
    "execution": {
     "iopub.execute_input": "2020-09-03T14:47:03.767467Z",
     "iopub.status.busy": "2020-09-03T14:47:03.767000Z",
     "iopub.status.idle": "2020-09-03T14:47:03.769814Z",
     "shell.execute_reply": "2020-09-03T14:47:03.769311Z"
    },
    "papermill": {
     "duration": 0.009369,
     "end_time": "2020-09-03T14:47:03.769922",
     "exception": false,
     "start_time": "2020-09-03T14:47:03.760553",
     "status": "completed"
    },
    "tags": []
   },
   "outputs": [],
   "source": [
    "def add(x, y):\n",
    "    return x + y"
   ]
  },
  {
   "cell_type": "code",
   "execution_count": 5,
   "metadata": {
    "execution": {
     "iopub.execute_input": "2020-09-03T14:47:03.786846Z",
     "iopub.status.busy": "2020-09-03T14:47:03.786385Z",
     "iopub.status.idle": "2020-09-03T14:47:03.790213Z",
     "shell.execute_reply": "2020-09-03T14:47:03.789816Z"
    },
    "papermill": {
     "duration": 0.016533,
     "end_time": "2020-09-03T14:47:03.790317",
     "exception": false,
     "start_time": "2020-09-03T14:47:03.773784",
     "status": "completed"
    },
    "tags": []
   },
   "outputs": [
    {
     "data": {
      "text/plain": [
       "100"
      ]
     },
     "execution_count": 5,
     "metadata": {},
     "output_type": "execute_result"
    }
   ],
   "source": [
    "add(x, y)"
   ]
  },
  {
   "cell_type": "code",
   "execution_count": null,
   "metadata": {
    "papermill": {
     "duration": 0.00452,
     "end_time": "2020-09-03T14:47:03.798756",
     "exception": false,
     "start_time": "2020-09-03T14:47:03.794236",
     "status": "completed"
    },
    "tags": []
   },
   "outputs": [],
   "source": []
  }
 ],
 "metadata": {
  "celltoolbar": "Tags",
  "kernelspec": {
   "display_name": "Python 3",
   "language": "python",
   "name": "python3"
  },
  "language_info": {
   "codemirror_mode": {
    "name": "ipython",
    "version": 3
   },
   "file_extension": ".py",
   "mimetype": "text/x-python",
   "name": "python",
   "nbconvert_exporter": "python",
   "pygments_lexer": "ipython3",
   "version": "3.8.4"
  },
  "papermill": {
   "duration": 2.278925,
   "end_time": "2020-09-03T14:47:04.956059",
   "environment_variables": {},
   "exception": null,
   "input_path": "main.ipynb",
   "output_path": "output.ipynb",
   "parameters": {
    "linear_function": {
     "intercept": 1.0,
     "slope": 3.0
    },
    "name": "zkan",
    "x": 99,
    "x_values": [
     0.0,
     1.0,
     2.0,
     3.0
    ],
    "y": 1
   },
   "start_time": "2020-09-03T14:47:02.677134",
   "version": "2.1.3"
  }
 },
 "nbformat": 4,
 "nbformat_minor": 2
}
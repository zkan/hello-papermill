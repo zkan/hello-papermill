{
 "cells": [
  {
   "cell_type": "code",
   "execution_count": 1,
   "metadata": {
    "execution": {
     "iopub.execute_input": "2020-09-03T14:16:34.405599Z",
     "iopub.status.busy": "2020-09-03T14:16:34.404821Z",
     "iopub.status.idle": "2020-09-03T14:16:34.407968Z",
     "shell.execute_reply": "2020-09-03T14:16:34.407423Z"
    },
    "papermill": {
     "duration": 0.011666,
     "end_time": "2020-09-03T14:16:34.408136",
     "exception": false,
     "start_time": "2020-09-03T14:16:34.396470",
     "status": "completed"
    },
    "tags": [
     "parameters"
    ]
   },
   "outputs": [],
   "source": [
    "name = 'Kan'\n",
    "x = 10\n",
    "y = 5"
   ]
  },
  {
   "cell_type": "code",
   "execution_count": 2,
   "metadata": {
    "execution": {
     "iopub.execute_input": "2020-09-03T14:16:34.419503Z",
     "iopub.status.busy": "2020-09-03T14:16:34.419023Z",
     "iopub.status.idle": "2020-09-03T14:16:34.421663Z",
     "shell.execute_reply": "2020-09-03T14:16:34.421273Z"
    },
    "papermill": {
     "duration": 0.009593,
     "end_time": "2020-09-03T14:16:34.421766",
     "exception": false,
     "start_time": "2020-09-03T14:16:34.412173",
     "status": "completed"
    },
    "tags": [
     "injected-parameters"
    ]
   },
   "outputs": [],
   "source": [
    "# Parameters\n",
    "name = \"ODDS\"\n",
    "x = 0.1\n",
    "y = 10\n"
   ]
  },
  {
   "cell_type": "code",
   "execution_count": 3,
   "metadata": {
    "execution": {
     "iopub.execute_input": "2020-09-03T14:16:34.432841Z",
     "iopub.status.busy": "2020-09-03T14:16:34.432272Z",
     "iopub.status.idle": "2020-09-03T14:16:34.435524Z",
     "shell.execute_reply": "2020-09-03T14:16:34.435868Z"
    },
    "papermill": {
     "duration": 0.010468,
     "end_time": "2020-09-03T14:16:34.435997",
     "exception": false,
     "start_time": "2020-09-03T14:16:34.425529",
     "status": "completed"
    },
    "tags": []
   },
   "outputs": [
    {
     "name": "stdout",
     "output_type": "stream",
     "text": [
      "ODDS\n"
     ]
    }
   ],
   "source": [
    "print(name)"
   ]
  },
  {
   "cell_type": "code",
   "execution_count": 4,
   "metadata": {
    "execution": {
     "iopub.execute_input": "2020-09-03T14:16:34.447413Z",
     "iopub.status.busy": "2020-09-03T14:16:34.446892Z",
     "iopub.status.idle": "2020-09-03T14:16:34.449692Z",
     "shell.execute_reply": "2020-09-03T14:16:34.450278Z"
    },
    "papermill": {
     "duration": 0.010693,
     "end_time": "2020-09-03T14:16:34.450408",
     "exception": false,
     "start_time": "2020-09-03T14:16:34.439715",
     "status": "completed"
    },
    "tags": []
   },
   "outputs": [],
   "source": [
    "def add(x, y):\n",
    "    return x + y"
   ]
  },
  {
   "cell_type": "code",
   "execution_count": 5,
   "metadata": {
    "execution": {
     "iopub.execute_input": "2020-09-03T14:16:34.466671Z",
     "iopub.status.busy": "2020-09-03T14:16:34.465094Z",
     "iopub.status.idle": "2020-09-03T14:16:34.470269Z",
     "shell.execute_reply": "2020-09-03T14:16:34.470717Z"
    },
    "papermill": {
     "duration": 0.016924,
     "end_time": "2020-09-03T14:16:34.470841",
     "exception": false,
     "start_time": "2020-09-03T14:16:34.453917",
     "status": "completed"
    },
    "tags": []
   },
   "outputs": [
    {
     "data": {
      "text/plain": [
       "10.1"
      ]
     },
     "execution_count": 5,
     "metadata": {},
     "output_type": "execute_result"
    }
   ],
   "source": [
    "add(x, y)"
   ]
  },
  {
   "cell_type": "code",
   "execution_count": null,
   "metadata": {
    "papermill": {
     "duration": 0.006448,
     "end_time": "2020-09-03T14:16:34.481079",
     "exception": false,
     "start_time": "2020-09-03T14:16:34.474631",
     "status": "completed"
    },
    "tags": []
   },
   "outputs": [],
   "source": []
  }
 ],
 "metadata": {
  "celltoolbar": "Tags",
  "kernelspec": {
   "display_name": "Python 3",
   "language": "python",
   "name": "python3"
  },
  "language_info": {
   "codemirror_mode": {
    "name": "ipython",
    "version": 3
   },
   "file_extension": ".py",
   "mimetype": "text/x-python",
   "name": "python",
   "nbconvert_exporter": "python",
   "pygments_lexer": "ipython3",
   "version": "3.8.4"
  },
  "papermill": {
   "duration": 2.284249,
   "end_time": "2020-09-03T14:16:35.637084",
   "environment_variables": {},
   "exception": null,
   "input_path": "main.ipynb",
   "output_path": "output.ipynb",
   "parameters": {
    "name": "ODDS",
    "x": 0.1,
    "y": 10
   },
   "start_time": "2020-09-03T14:16:33.352835",
   "version": "2.1.3"
  }
 },
 "nbformat": 4,
 "nbformat_minor": 2
}